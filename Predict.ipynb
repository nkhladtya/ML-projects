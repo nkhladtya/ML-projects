{
  "cells": [
    {
      "metadata": {
        "trusted": true
      },
      "cell_type": "code",
      "source": "import pandas as pd \nimport numpy as np\nimport pickle\n",
      "execution_count": 7,
      "outputs": []
    },
    {
      "metadata": {
        "trusted": true
      },
      "cell_type": "code",
      "source": "def result(team, opposition, ground, runs):\n    \n    dataset = pd.read_csv('odi_cricket_dataset.csv')\n    vectorized = pd.get_dummies(dataset.iloc[:,1:4])\n    \n    flag = [False, False, False]\n    \n    record = np.zeros((1,131),dtype='float64')\n    t = \"Team_\" + team\n    o = \"Opposition_v\\xa0\" + opposition\n    g = \"Ground_\" + ground\n    r = runs\n        \n    record[0,130] = r\n    \n    for i,vec in enumerate(vectorized.columns):\n        if vec == t:\n            record[0,i] = 1\n            flag[0] = True\n        if vec == o:\n            record[0,i] = 1\n            flag[1] = True\n        if vec == g:\n            record[0,i] = 1\n            flag[2] = True\n            \n    if(flag[0]==True and flag[1]==True and flag[2]==True):\n        filename = 'model_1.sav'\n        model = pickle.load(open(filename, 'rb'))\n        ans = model.predict(record)\n        \n        if ans == 1:\n            print(team + \" will win\")\n        elif ans == 0:\n            print(opposition + \" will win\")\n            \n    else:\n        print(\"Incorrect details!\")\n",
      "execution_count": 1,
      "outputs": []
    },
    {
      "metadata": {
        "trusted": true
      },
      "cell_type": "code",
      "source": "result(\"England\",\"India\",\"Lord's\",330)",
      "execution_count": 9,
      "outputs": [
        {
          "output_type": "stream",
          "text": "England will win\n",
          "name": "stdout"
        }
      ]
    },
    {
      "metadata": {
        "trusted": true
      },
      "cell_type": "code",
      "source": "result(\"England\",\"India\",\"Mumbai\",230)",
      "execution_count": 10,
      "outputs": [
        {
          "output_type": "stream",
          "text": "India will win\n",
          "name": "stdout"
        }
      ]
    },
    {
      "metadata": {
        "trusted": true
      },
      "cell_type": "code",
      "source": "",
      "execution_count": null,
      "outputs": []
    }
  ],
  "metadata": {
    "kernelspec": {
      "name": "python36",
      "display_name": "Python 3.6",
      "language": "python"
    },
    "language_info": {
      "mimetype": "text/x-python",
      "nbconvert_exporter": "python",
      "name": "python",
      "pygments_lexer": "ipython3",
      "version": "3.6.6",
      "file_extension": ".py",
      "codemirror_mode": {
        "version": 3,
        "name": "ipython"
      }
    }
  },
  "nbformat": 4,
  "nbformat_minor": 2
}