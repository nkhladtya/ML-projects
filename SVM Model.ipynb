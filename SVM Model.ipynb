{
  "cells": [
    {
      "metadata": {
        "trusted": true
      },
      "cell_type": "code",
      "source": "import numpy as np #for arrays\nimport pandas as pd #for importing and managing datasets\nimport pickle #for saving the model\nfrom sklearn.model_selection import train_test_split #for splitting the dataset\nfrom sklearn.svm import SVC #for SVM\nfrom sklearn.metrics import confusion_matrix #for confusion matrix\nimport matplotlib.pyplot as plt\nimport seaborn as sns\n",
      "execution_count": 39,
      "outputs": []
    },
    {
      "metadata": {
        "trusted": true,
        "scrolled": false
      },
      "cell_type": "code",
      "source": "dataset = pd.read_csv('odi_cricket_dataset.csv')\ndataset.head()",
      "execution_count": 40,
      "outputs": [
        {
          "output_type": "execute_result",
          "execution_count": 40,
          "data": {
            "text/html": "<div>\n<style scoped>\n    .dataframe tbody tr th:only-of-type {\n        vertical-align: middle;\n    }\n\n    .dataframe tbody tr th {\n        vertical-align: top;\n    }\n\n    .dataframe thead th {\n        text-align: right;\n    }\n</style>\n<table border=\"1\" class=\"dataframe\">\n  <thead>\n    <tr style=\"text-align: right;\">\n      <th></th>\n      <th>Date</th>\n      <th>Team</th>\n      <th>Opposition</th>\n      <th>Ground</th>\n      <th>10-Runs</th>\n      <th>10-Wkts</th>\n      <th>50-Runs</th>\n      <th>50-Wkts</th>\n      <th>Result</th>\n      <th>Above-300</th>\n    </tr>\n  </thead>\n  <tbody>\n    <tr>\n      <th>0</th>\n      <td>13-Jul-18</td>\n      <td>Pakistan</td>\n      <td>v Zimbabwe</td>\n      <td>Bulawayo</td>\n      <td>36</td>\n      <td>0</td>\n      <td>308</td>\n      <td>7</td>\n      <td>1</td>\n      <td>1</td>\n    </tr>\n    <tr>\n      <th>1</th>\n      <td>12-Jul-18</td>\n      <td>England</td>\n      <td>v India</td>\n      <td>Nottingham</td>\n      <td>71</td>\n      <td>0</td>\n      <td>268</td>\n      <td>10</td>\n      <td>0</td>\n      <td>0</td>\n    </tr>\n    <tr>\n      <th>2</th>\n      <td>24-Jun-18</td>\n      <td>Australia</td>\n      <td>v England</td>\n      <td>Manchester</td>\n      <td>79</td>\n      <td>2</td>\n      <td>205</td>\n      <td>10</td>\n      <td>0</td>\n      <td>0</td>\n    </tr>\n    <tr>\n      <th>3</th>\n      <td>21-Jun-18</td>\n      <td>Australia</td>\n      <td>v England</td>\n      <td>Chester-le-Street</td>\n      <td>61</td>\n      <td>0</td>\n      <td>310</td>\n      <td>8</td>\n      <td>0</td>\n      <td>1</td>\n    </tr>\n    <tr>\n      <th>4</th>\n      <td>19-Jun-18</td>\n      <td>England</td>\n      <td>v Australia</td>\n      <td>Nottingham</td>\n      <td>79</td>\n      <td>0</td>\n      <td>481</td>\n      <td>6</td>\n      <td>1</td>\n      <td>1</td>\n    </tr>\n  </tbody>\n</table>\n</div>",
            "text/plain": "        Date       Team   Opposition             Ground  10-Runs  10-Wkts  \\\n0  13-Jul-18   Pakistan   v Zimbabwe           Bulawayo       36        0   \n1  12-Jul-18    England      v India         Nottingham       71        0   \n2  24-Jun-18  Australia    v England         Manchester       79        2   \n3  21-Jun-18  Australia    v England  Chester-le-Street       61        0   \n4  19-Jun-18    England  v Australia         Nottingham       79        0   \n\n   50-Runs  50-Wkts  Result  Above-300  \n0      308        7       1          1  \n1      268       10       0          0  \n2      205       10       0          0  \n3      310        8       0          1  \n4      481        6       1          1  "
          },
          "metadata": {}
        }
      ]
    },
    {
      "metadata": {
        "trusted": true
      },
      "cell_type": "code",
      "source": "categorical_data = pd.get_dummies(dataset.iloc[:,1:4])\ncategorical_data.head()",
      "execution_count": 43,
      "outputs": [
        {
          "output_type": "execute_result",
          "execution_count": 43,
          "data": {
            "text/html": "<div>\n<style scoped>\n    .dataframe tbody tr th:only-of-type {\n        vertical-align: middle;\n    }\n\n    .dataframe tbody tr th {\n        vertical-align: top;\n    }\n\n    .dataframe thead th {\n        text-align: right;\n    }\n</style>\n<table border=\"1\" class=\"dataframe\">\n  <thead>\n    <tr style=\"text-align: right;\">\n      <th></th>\n      <th>Team_Afghanistan</th>\n      <th>Team_Australia</th>\n      <th>Team_Bangladesh</th>\n      <th>Team_Canada</th>\n      <th>Team_England</th>\n      <th>Team_Hong Kong</th>\n      <th>Team_India</th>\n      <th>Team_Ireland</th>\n      <th>Team_Kenya</th>\n      <th>Team_Netherlands</th>\n      <th>...</th>\n      <th>Ground_Ranchi</th>\n      <th>Ground_Sharjah</th>\n      <th>Ground_Southampton</th>\n      <th>Ground_St George's</th>\n      <th>Ground_Sydney</th>\n      <th>Ground_The Oval</th>\n      <th>Ground_Townsville</th>\n      <th>Ground_Visakhapatnam</th>\n      <th>Ground_Wellington</th>\n      <th>Ground_Whangarei</th>\n    </tr>\n  </thead>\n  <tbody>\n    <tr>\n      <th>0</th>\n      <td>0</td>\n      <td>0</td>\n      <td>0</td>\n      <td>0</td>\n      <td>0</td>\n      <td>0</td>\n      <td>0</td>\n      <td>0</td>\n      <td>0</td>\n      <td>0</td>\n      <td>...</td>\n      <td>0</td>\n      <td>0</td>\n      <td>0</td>\n      <td>0</td>\n      <td>0</td>\n      <td>0</td>\n      <td>0</td>\n      <td>0</td>\n      <td>0</td>\n      <td>0</td>\n    </tr>\n    <tr>\n      <th>1</th>\n      <td>0</td>\n      <td>0</td>\n      <td>0</td>\n      <td>0</td>\n      <td>1</td>\n      <td>0</td>\n      <td>0</td>\n      <td>0</td>\n      <td>0</td>\n      <td>0</td>\n      <td>...</td>\n      <td>0</td>\n      <td>0</td>\n      <td>0</td>\n      <td>0</td>\n      <td>0</td>\n      <td>0</td>\n      <td>0</td>\n      <td>0</td>\n      <td>0</td>\n      <td>0</td>\n    </tr>\n    <tr>\n      <th>2</th>\n      <td>0</td>\n      <td>1</td>\n      <td>0</td>\n      <td>0</td>\n      <td>0</td>\n      <td>0</td>\n      <td>0</td>\n      <td>0</td>\n      <td>0</td>\n      <td>0</td>\n      <td>...</td>\n      <td>0</td>\n      <td>0</td>\n      <td>0</td>\n      <td>0</td>\n      <td>0</td>\n      <td>0</td>\n      <td>0</td>\n      <td>0</td>\n      <td>0</td>\n      <td>0</td>\n    </tr>\n    <tr>\n      <th>3</th>\n      <td>0</td>\n      <td>1</td>\n      <td>0</td>\n      <td>0</td>\n      <td>0</td>\n      <td>0</td>\n      <td>0</td>\n      <td>0</td>\n      <td>0</td>\n      <td>0</td>\n      <td>...</td>\n      <td>0</td>\n      <td>0</td>\n      <td>0</td>\n      <td>0</td>\n      <td>0</td>\n      <td>0</td>\n      <td>0</td>\n      <td>0</td>\n      <td>0</td>\n      <td>0</td>\n    </tr>\n    <tr>\n      <th>4</th>\n      <td>0</td>\n      <td>0</td>\n      <td>0</td>\n      <td>0</td>\n      <td>1</td>\n      <td>0</td>\n      <td>0</td>\n      <td>0</td>\n      <td>0</td>\n      <td>0</td>\n      <td>...</td>\n      <td>0</td>\n      <td>0</td>\n      <td>0</td>\n      <td>0</td>\n      <td>0</td>\n      <td>0</td>\n      <td>0</td>\n      <td>0</td>\n      <td>0</td>\n      <td>0</td>\n    </tr>\n  </tbody>\n</table>\n<p>5 rows × 130 columns</p>\n</div>",
            "text/plain": "   Team_Afghanistan  Team_Australia  Team_Bangladesh  Team_Canada  \\\n0                 0               0                0            0   \n1                 0               0                0            0   \n2                 0               1                0            0   \n3                 0               1                0            0   \n4                 0               0                0            0   \n\n   Team_England  Team_Hong Kong  Team_India  Team_Ireland  Team_Kenya  \\\n0             0               0           0             0           0   \n1             1               0           0             0           0   \n2             0               0           0             0           0   \n3             0               0           0             0           0   \n4             1               0           0             0           0   \n\n   Team_Netherlands        ...         Ground_Ranchi  Ground_Sharjah  \\\n0                 0        ...                     0               0   \n1                 0        ...                     0               0   \n2                 0        ...                     0               0   \n3                 0        ...                     0               0   \n4                 0        ...                     0               0   \n\n   Ground_Southampton  Ground_St George's  Ground_Sydney  Ground_The Oval  \\\n0                   0                   0              0                0   \n1                   0                   0              0                0   \n2                   0                   0              0                0   \n3                   0                   0              0                0   \n4                   0                   0              0                0   \n\n   Ground_Townsville  Ground_Visakhapatnam  Ground_Wellington  \\\n0                  0                     0                  0   \n1                  0                     0                  0   \n2                  0                     0                  0   \n3                  0                     0                  0   \n4                  0                     0                  0   \n\n   Ground_Whangarei  \n0                 0  \n1                 0  \n2                 0  \n3                 0  \n4                 0  \n\n[5 rows x 130 columns]"
          },
          "metadata": {}
        }
      ]
    },
    {
      "metadata": {
        "trusted": true
      },
      "cell_type": "code",
      "source": "X = np.zeros((588,131),dtype='float64')\nX[:,:130]=categorical_data.values\nX[:,130:131]=dataset.iloc[:,6:7].values\n\nY = dataset.iloc[:,8].values",
      "execution_count": 38,
      "outputs": []
    },
    {
      "metadata": {
        "trusted": true
      },
      "cell_type": "code",
      "source": "x_train, x_test, y_train, y_test = train_test_split(X, Y, test_size=0.20, random_state=0)",
      "execution_count": 7,
      "outputs": []
    },
    {
      "metadata": {
        "trusted": true
      },
      "cell_type": "code",
      "source": "from sklearn.svm import SVC\nclassifier = SVC(kernel = \"rbf\", random_state = 0)\nclassifier.fit(x_train, y_train)",
      "execution_count": 8,
      "outputs": [
        {
          "output_type": "stream",
          "text": "/home/nbuser/anaconda3_501/lib/python3.6/site-packages/sklearn/svm/base.py:196: FutureWarning: The default value of gamma will change from 'auto' to 'scale' in version 0.22 to account better for unscaled features. Set gamma explicitly to 'auto' or 'scale' to avoid this warning.\n  \"avoid this warning.\", FutureWarning)\n",
          "name": "stderr"
        },
        {
          "output_type": "execute_result",
          "execution_count": 8,
          "data": {
            "text/plain": "SVC(C=1.0, cache_size=200, class_weight=None, coef0=0.0,\n  decision_function_shape='ovr', degree=3, gamma='auto_deprecated',\n  kernel='rbf', max_iter=-1, probability=False, random_state=0,\n  shrinking=True, tol=0.001, verbose=False)"
          },
          "metadata": {}
        }
      ]
    },
    {
      "metadata": {
        "trusted": true
      },
      "cell_type": "code",
      "source": "y_pred = classifier.predict(x_test)\n\ncm = confusion_matrix(y_test, y_pred)\n\naccuracy = ((cm[0,0] + cm[1,1]) / 118) * 100",
      "execution_count": 9,
      "outputs": []
    },
    {
      "metadata": {
        "trusted": true
      },
      "cell_type": "code",
      "source": "print(accuracy)",
      "execution_count": 10,
      "outputs": [
        {
          "output_type": "stream",
          "text": "72.03389830508475\n",
          "name": "stdout"
        }
      ]
    },
    {
      "metadata": {
        "trusted": true
      },
      "cell_type": "code",
      "source": "sns.heatmap(cm/np.sum(cm), annot=True, \n            fmt='.2%', cmap='Blues')",
      "execution_count": 34,
      "outputs": [
        {
          "output_type": "execute_result",
          "execution_count": 34,
          "data": {
            "text/plain": "<matplotlib.axes._subplots.AxesSubplot at 0x7f64ccfe19e8>"
          },
          "metadata": {}
        },
        {
          "output_type": "display_data",
          "data": {
            "image/png": "[encoded data removed]",
            "text/plain": "<Figure size 432x288 with 2 Axes>"
          },
          "metadata": {
            "needs_background": "light"
          }
        }
      ]
    },
    {
      "metadata": {
        "trusted": true
      },
      "cell_type": "code",
      "source": "filename = 'model_2.sav'\npickle.dump(classifier, open(filename, 'wb'))",
      "execution_count": 11,
      "outputs": []
    },
    {
      "metadata": {
        "trusted": true
      },
      "cell_type": "code",
      "source": "print(categorical_data.columns)",
      "execution_count": 12,
      "outputs": [
        {
          "output_type": "stream",
          "text": "Index(['Team_Afghanistan', 'Team_Australia', 'Team_Bangladesh', 'Team_Canada',\n       'Team_England', 'Team_Hong Kong', 'Team_India', 'Team_Ireland',\n       'Team_Kenya', 'Team_Netherlands',\n       ...\n       'Ground_Ranchi', 'Ground_Sharjah', 'Ground_Southampton',\n       'Ground_St George's', 'Ground_Sydney', 'Ground_The Oval',\n       'Ground_Townsville', 'Ground_Visakhapatnam', 'Ground_Wellington',\n       'Ground_Whangarei'],\n      dtype='object', length=130)\n",
          "name": "stdout"
        }
      ]
    },
    {
      "metadata": {
        "trusted": true
      },
      "cell_type": "code",
      "source": "",
      "execution_count": null,
      "outputs": []
    }
  ],
  "metadata": {
    "kernelspec": {
      "name": "python36",
      "display_name": "Python 3.6",
      "language": "python"
    },
    "language_info": {
      "mimetype": "text/x-python",
      "nbconvert_exporter": "python",
      "name": "python",
      "pygments_lexer": "ipython3",
      "version": "3.6.6",
      "file_extension": ".py",
      "codemirror_mode": {
        "version": 3,
        "name": "ipython"
      }
    }
  },
  "nbformat": 4,
  "nbformat_minor": 2
}