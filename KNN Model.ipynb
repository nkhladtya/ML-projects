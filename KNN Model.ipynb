{
  "cells": [
    {
      "metadata": {
        "trusted": true
      },
      "cell_type": "code",
      "source": "import numpy as np #for arrays\nimport pandas as pd #for importing and managing datasets\nimport pickle #for saving the model\nfrom sklearn.model_selection import train_test_split #for splitting the dataset\nfrom sklearn.neighbors import KNeighborsClassifier #for KNN model\nfrom sklearn.metrics import confusion_matrix #for confusion matrix",
      "execution_count": 11,
      "outputs": []
    },
    {
      "metadata": {
        "trusted": true
      },
      "cell_type": "code",
      "source": "dataset = pd.read_csv('odi_cricket_dataset.csv')",
      "execution_count": 12,
      "outputs": []
    },
    {
      "metadata": {
        "trusted": true
      },
      "cell_type": "code",
      "source": "categorical_data = pd.get_dummies(dataset.iloc[:,1:4])\n",
      "execution_count": 13,
      "outputs": []
    },
    {
      "metadata": {
        "trusted": true
      },
      "cell_type": "code",
      "source": "X = np.zeros((588,132),dtype='float64')\nX[:,:130]=categorical_data.values\nX[:,130:132]=dataset.iloc[:,4:6].values\n\nY = dataset.iloc[:,-1].values\n",
      "execution_count": 17,
      "outputs": []
    },
    {
      "metadata": {
        "trusted": true
      },
      "cell_type": "code",
      "source": "x_train, x_test, y_train, y_test = train_test_split(X, Y, test_size=0.20, random_state=0)",
      "execution_count": 5,
      "outputs": []
    },
    {
      "metadata": {
        "trusted": true
      },
      "cell_type": "code",
      "source": "classifier = KNeighborsClassifier(n_neighbors = 20, metric = 'minkowski', p = 2)\nclassifier.fit(x_train, y_train)",
      "execution_count": 6,
      "outputs": [
        {
          "output_type": "execute_result",
          "execution_count": 6,
          "data": {
            "text/plain": "KNeighborsClassifier(algorithm='auto', leaf_size=30, metric='minkowski',\n           metric_params=None, n_jobs=None, n_neighbors=20, p=2,\n           weights='uniform')"
          },
          "metadata": {}
        }
      ]
    },
    {
      "metadata": {
        "trusted": true
      },
      "cell_type": "code",
      "source": "y_pred = classifier.predict(x_test)\n\ncm = confusion_matrix(y_test, y_pred)\n\naccuracy = ((cm[0,0] + cm[1,1]) / 118) * 100",
      "execution_count": 7,
      "outputs": []
    },
    {
      "metadata": {
        "trusted": true
      },
      "cell_type": "code",
      "source": "print(accuracy)",
      "execution_count": 8,
      "outputs": [
        {
          "output_type": "stream",
          "text": "78.8135593220339\n",
          "name": "stdout"
        }
      ]
    },
    {
      "metadata": {
        "trusted": true
      },
      "cell_type": "code",
      "source": "filename = 'model_l.sav'\npickle.dump(classifier, open(filename, 'wb'))",
      "execution_count": 31,
      "outputs": []
    },
    {
      "metadata": {
        "trusted": true
      },
      "cell_type": "code",
      "source": "",
      "execution_count": null,
      "outputs": []
    }
  ],
  "metadata": {
    "kernelspec": {
      "name": "python36",
      "display_name": "Python 3.6",
      "language": "python"
    },
    "language_info": {
      "mimetype": "text/x-python",
      "nbconvert_exporter": "python",
      "name": "python",
      "pygments_lexer": "ipython3",
      "version": "3.6.6",
      "file_extension": ".py",
      "codemirror_mode": {
        "version": 3,
        "name": "ipython"
      }
    }
  },
  "nbformat": 4,
  "nbformat_minor": 2
}